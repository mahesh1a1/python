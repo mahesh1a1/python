{
 "cells": [
  {
   "cell_type": "code",
   "execution_count": null,
   "id": "02fe660a",
   "metadata": {},
   "outputs": [],
   "source": [
    "## Dynamic Calculator"
   ]
  },
  {
   "cell_type": "code",
   "execution_count": null,
   "id": "372d19e3",
   "metadata": {},
   "outputs": [],
   "source": [
    "while True:\n",
    "    s = input(\"Enter 's' to start and 'n' to stop:\")\n",
    "    if s == 's':\n",
    "        while True:\n",
    "            print(\"Enter 'x' for exit\")\n",
    "            num1 = input(\"Enter first number:\")\n",
    "            if num1 == 'x':\n",
    "                break\n",
    "            else:\n",
    "                num2 = input(\"Enter second number:\")\n",
    "                operator = input(\"Enter operator (+,-,*,/):\")\n",
    "                if operator == '+':\n",
    "                    print(float(num1), \"+\", float(num2), \"=\", float(num1) + float(num2))\n",
    "                elif operator == '-':\n",
    "                    print(float(num1), \"-\", float(num2), \"=\", float(num1) - float(num2))\n",
    "                elif operator == '*':\n",
    "                    print(float(num1), \"*\", float(num2), \"=\", float(num1) * float(num2))\n",
    "                elif operator == '/':\n",
    "                    print(float(num1), \"/\", float(num2), \"=\", float(num1) / float(num2))\n",
    "                else:\n",
    "                    print(\"Invalid Input\")\n",
    "    elif s == 'n':\n",
    "        break"
   ]
  },
  {
   "cell_type": "code",
   "execution_count": null,
   "id": "bd588dfb",
   "metadata": {},
   "outputs": [],
   "source": []
  }
 ],
 "metadata": {
  "kernelspec": {
   "display_name": "Python 3 (ipykernel)",
   "language": "python",
   "name": "python3"
  },
  "language_info": {
   "codemirror_mode": {
    "name": "ipython",
    "version": 3
   },
   "file_extension": ".py",
   "mimetype": "text/x-python",
   "name": "python",
   "nbconvert_exporter": "python",
   "pygments_lexer": "ipython3",
   "version": "3.9.12"
  }
 },
 "nbformat": 4,
 "nbformat_minor": 5
}
