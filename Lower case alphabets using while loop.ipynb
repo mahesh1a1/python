{
 "cells": [
  {
   "cell_type": "code",
   "execution_count": 1,
   "id": "6a447355",
   "metadata": {},
   "outputs": [
    {
     "name": "stdout",
     "output_type": "stream",
     "text": [
      " * *  *  \n",
      "      *\n",
      "  * * *\n",
      "*     *\n",
      "  * * *\n"
     ]
    }
   ],
   "source": [
    "x=5\n",
    "while x>0:\n",
    "    if x==5:\n",
    "        print(\" * *  *  \")\n",
    "    elif x==4:\n",
    "        print(\"      *\")\n",
    "    elif x==2:\n",
    "        print(\"*     *\")\n",
    "    else:\n",
    "        print(\"  * * *\")\n",
    "    x-=1"
   ]
  },
  {
   "cell_type": "code",
   "execution_count": 2,
   "id": "82b6836c",
   "metadata": {},
   "outputs": [
    {
     "name": "stdout",
     "output_type": "stream",
     "text": [
      "*\n",
      "*\n",
      "* * *\n",
      "*   *\n",
      "* * *\n"
     ]
    }
   ],
   "source": [
    "x=1\n",
    "while x<6:\n",
    "    if x==1 or x==2:\n",
    "        print(\"*\")\n",
    "    elif x==4:\n",
    "        print(\"*   *\")\n",
    "    else: \n",
    "        print(\"* * *\")\n",
    "    x+=1"
   ]
  },
  {
   "cell_type": "code",
   "execution_count": 3,
   "id": "92c78872",
   "metadata": {},
   "outputs": [
    {
     "name": "stdout",
     "output_type": "stream",
     "text": [
      "     \n",
      "     \n",
      "  * *\n",
      "*\n",
      "*\n",
      "  * *\n"
     ]
    }
   ],
   "source": [
    "x=6\n",
    "while x>0:\n",
    "    if x==1 or x==4:\n",
    "        print(\"  * *\")\n",
    "    elif x==2 or x==3:\n",
    "        print(\"*\")\n",
    "    else:\n",
    "        print(\"     \")\n",
    "    x-=1"
   ]
  },
  {
   "cell_type": "code",
   "execution_count": 4,
   "id": "4887551f",
   "metadata": {},
   "outputs": [
    {
     "name": "stdout",
     "output_type": "stream",
     "text": [
      "    *\n",
      "    *\n",
      "* * *\n",
      "*   *\n",
      "* * *\n"
     ]
    }
   ],
   "source": [
    "x=5\n",
    "while x>0:\n",
    "    if x==3 or x==1:\n",
    "        print(\"* * *\")\n",
    "    elif x==2:\n",
    "        print(\"*   *\")\n",
    "    else:\n",
    "        print(\"    *\")\n",
    "    x-=1"
   ]
  },
  {
   "cell_type": "code",
   "execution_count": 5,
   "id": "2069c1e1",
   "metadata": {},
   "outputs": [
    {
     "name": "stdout",
     "output_type": "stream",
     "text": [
      "*  *  *\n",
      "*     *\n",
      "*  *  *\n",
      "*    \n",
      "*  *  *\n"
     ]
    }
   ],
   "source": [
    "x=5\n",
    "while x>0:\n",
    "    if x==5:\n",
    "        print(\"*  *  *\")\n",
    "    elif x==4:\n",
    "        print(\"*     *\")\n",
    "    elif x==3:\n",
    "        print(\"*  *  *\")\n",
    "    elif x==2:\n",
    "        print(\"*    \")\n",
    "    else:\n",
    "        print(\"*  *  *\")\n",
    "    x-=1"
   ]
  },
  {
   "cell_type": "code",
   "execution_count": 6,
   "id": "ca5eb6e5",
   "metadata": {},
   "outputs": [
    {
     "name": "stdout",
     "output_type": "stream",
     "text": [
      "    * *\n",
      "  *    \n",
      "* * * * \n",
      "  *    \n",
      "  *    \n"
     ]
    }
   ],
   "source": [
    "x=5\n",
    "while x>0:\n",
    "    if x==5:\n",
    "        print(\"    * *\")\n",
    "    elif x==3:\n",
    "        print(\"* * * * \")\n",
    "    else:\n",
    "        print(\"  *    \")\n",
    "    x-=1"
   ]
  },
  {
   "cell_type": "code",
   "execution_count": 7,
   "id": "29a19303",
   "metadata": {},
   "outputs": [
    {
     "name": "stdout",
     "output_type": "stream",
     "text": [
      "  * *\n",
      "*   *\n",
      "  * *\n",
      "    *\n",
      "* *  \n"
     ]
    }
   ],
   "source": [
    "x=5\n",
    "while x>0:\n",
    "    if x==4:\n",
    "        print(\"*   *\")\n",
    "    elif x==2:\n",
    "        print(\"    *\")\n",
    "    elif x==1:\n",
    "        print(\"* *  \")\n",
    "    else:\n",
    "        print(\"  * *\")\n",
    "    x-=1"
   ]
  },
  {
   "cell_type": "code",
   "execution_count": 8,
   "id": "4736ece2",
   "metadata": {},
   "outputs": [
    {
     "name": "stdout",
     "output_type": "stream",
     "text": [
      "*    \n",
      "*    \n",
      "* * * \n",
      "*    *\n",
      "*    *\n"
     ]
    }
   ],
   "source": [
    "x=5\n",
    "while x>0:\n",
    "    if x==5 or x==4:\n",
    "        print(\"*    \")\n",
    "    elif x==3:\n",
    "        print(\"* * * \")\n",
    "    else:\n",
    "        print(\"*    *\")\n",
    "    x-=1"
   ]
  },
  {
   "cell_type": "code",
   "execution_count": 9,
   "id": "90b687d7",
   "metadata": {},
   "outputs": [
    {
     "name": "stdout",
     "output_type": "stream",
     "text": [
      "  *\n",
      "      \n",
      "  *\n",
      "  *\n",
      "  *\n",
      "  *\n"
     ]
    }
   ],
   "source": [
    "x=6\n",
    "while x>0:\n",
    "    if x==5:\n",
    "        print(\"      \")\n",
    "    else:\n",
    "        print(\"  *\")\n",
    "    x-=1\n",
    "    "
   ]
  },
  {
   "cell_type": "code",
   "execution_count": 10,
   "id": "89a280f6",
   "metadata": {},
   "outputs": [
    {
     "name": "stdout",
     "output_type": "stream",
     "text": [
      "     *\n",
      "   \n",
      "     *\n",
      "     *\n",
      "*  * * \n",
      "*  * * \n"
     ]
    }
   ],
   "source": [
    "x=6\n",
    "while x>0:\n",
    "    if x==5:\n",
    "        print(\"   \")\n",
    "    elif x==2 or x==1:\n",
    "        print(\"*  * * \")\n",
    "    else:\n",
    "        print(\"     *\")\n",
    "    x-=1"
   ]
  },
  {
   "cell_type": "code",
   "execution_count": 11,
   "id": "d4b94363",
   "metadata": {},
   "outputs": [
    {
     "name": "stdout",
     "output_type": "stream",
     "text": [
      "*\n",
      "*  *\n",
      "* *\n",
      "* *\n",
      "*  *\n"
     ]
    }
   ],
   "source": [
    "x=5\n",
    "while x>0:\n",
    "    if x==5:\n",
    "        print(\"*\")\n",
    "    elif x==4 or x==1:\n",
    "        print(\"*  *\")\n",
    "    else:\n",
    "        print(\"* *\")\n",
    "    x-=1"
   ]
  },
  {
   "cell_type": "code",
   "execution_count": 12,
   "id": "06e83ea7",
   "metadata": {},
   "outputs": [
    {
     "name": "stdout",
     "output_type": "stream",
     "text": [
      "*\n",
      "*\n",
      "*\n",
      "*\n",
      "*\n"
     ]
    }
   ],
   "source": [
    "x=5\n",
    "while x>0:\n",
    "    print(\"*\")\n",
    "    x-=1"
   ]
  },
  {
   "cell_type": "code",
   "execution_count": 13,
   "id": "6e20da9e",
   "metadata": {},
   "outputs": [
    {
     "name": "stdout",
     "output_type": "stream",
     "text": [
      "       \n",
      "       \n",
      "  * * *  \n",
      "*   *   *\n",
      "*   *   *\n"
     ]
    }
   ],
   "source": [
    "x=5\n",
    "while x>0:\n",
    "    if x==3:\n",
    "        print(\"  * * *  \")\n",
    "    elif x==2 or x==1:\n",
    "        print(\"*   *   *\")\n",
    "    else:\n",
    "        print(\"       \")\n",
    "    x-=1"
   ]
  },
  {
   "cell_type": "code",
   "execution_count": 14,
   "id": "194e230f",
   "metadata": {},
   "outputs": [
    {
     "name": "stdout",
     "output_type": "stream",
     "text": [
      "       \n",
      "       \n",
      "* * * \n",
      "*    *\n",
      "*    *\n"
     ]
    }
   ],
   "source": [
    "x=5\n",
    "while x>0:\n",
    "    if x==3:\n",
    "        print(\"* * * \")\n",
    "    elif x==2 or x==1:\n",
    "        print(\"*    *\")\n",
    "    else:\n",
    "        print(\"       \")\n",
    "    x-=1"
   ]
  },
  {
   "cell_type": "code",
   "execution_count": 15,
   "id": "ac2ada16",
   "metadata": {},
   "outputs": [
    {
     "name": "stdout",
     "output_type": "stream",
     "text": [
      "       \n",
      "       \n",
      " * * \n",
      "*   *\n",
      "*   *\n",
      " * * \n"
     ]
    }
   ],
   "source": [
    "x=6\n",
    "while x>0:\n",
    "    if x==4 or x==1:\n",
    "        print(\" * * \")\n",
    "    elif x==2 or x==3:\n",
    "        print(\"*   *\")\n",
    "    else:\n",
    "        print(\"       \")\n",
    "    x-=1"
   ]
  },
  {
   "cell_type": "code",
   "execution_count": 16,
   "id": "23f4a255",
   "metadata": {},
   "outputs": [
    {
     "name": "stdout",
     "output_type": "stream",
     "text": [
      "     \n",
      "* *  \n",
      "*   *\n",
      "* *  \n",
      "* \n"
     ]
    }
   ],
   "source": [
    "x=5\n",
    "while x>0:\n",
    "    if x==4 or x==2:\n",
    "        print(\"* *  \")\n",
    "    elif x==5:\n",
    "        print(\"     \")\n",
    "    elif x==3:\n",
    "        print(\"*   *\")\n",
    "    else:\n",
    "        print(\"* \")\n",
    "    x-=1"
   ]
  },
  {
   "cell_type": "code",
   "execution_count": 17,
   "id": "f05e3126",
   "metadata": {},
   "outputs": [
    {
     "name": "stdout",
     "output_type": "stream",
     "text": [
      "  * *\n",
      "*   *\n",
      "  * *\n",
      "    * \n",
      "    * \n"
     ]
    }
   ],
   "source": [
    "x=5\n",
    "while x>0:\n",
    "    if x==5 or x==3:\n",
    "        print(\"  * *\")\n",
    "    elif x==4:\n",
    "        print(\"*   *\")\n",
    "    else:\n",
    "        print(\"    * \")\n",
    "    x-=1"
   ]
  },
  {
   "cell_type": "code",
   "execution_count": 18,
   "id": "de947b72",
   "metadata": {},
   "outputs": [
    {
     "name": "stdout",
     "output_type": "stream",
     "text": [
      "     \n",
      "     \n",
      "* * \n",
      "*    \n",
      "*    \n"
     ]
    }
   ],
   "source": [
    "x=5\n",
    "while x>0:\n",
    "    if x==3:\n",
    "        print(\"* * \")\n",
    "    elif x==2 or x==1:\n",
    "        print(\"*    \")\n",
    "    else:\n",
    "        print(\"     \")\n",
    "    x-=1"
   ]
  },
  {
   "cell_type": "code",
   "execution_count": 19,
   "id": "f728e203",
   "metadata": {},
   "outputs": [
    {
     "name": "stdout",
     "output_type": "stream",
     "text": [
      "    \n",
      " * *\n",
      " *  \n",
      "   *\n",
      " * *\n"
     ]
    }
   ],
   "source": [
    "x=5\n",
    "while x>0:\n",
    "    if x==5:\n",
    "        print(\"    \")\n",
    "    elif x==3:\n",
    "        print(\" *  \")\n",
    "    elif x==2:\n",
    "        print(\"   *\")\n",
    "    else:\n",
    "        print(\" * *\")\n",
    "    x-=1"
   ]
  },
  {
   "cell_type": "code",
   "execution_count": 20,
   "id": "8dbc220a",
   "metadata": {},
   "outputs": [
    {
     "name": "stdout",
     "output_type": "stream",
     "text": [
      "  *  \n",
      "* * *\n",
      "  *  \n",
      "  * *\n",
      "   * \n"
     ]
    }
   ],
   "source": [
    "x=5\n",
    "while x>0:\n",
    "    if x==4:\n",
    "        print(\"* * *\")\n",
    "    elif x==2:\n",
    "        print(\"  * *\")\n",
    "    elif x==1:\n",
    "        print(\"   * \")\n",
    "    else:\n",
    "        print(\"  *  \")\n",
    "    x-=1\n",
    "    \n",
    "    "
   ]
  },
  {
   "cell_type": "code",
   "execution_count": 21,
   "id": "6d95acaf",
   "metadata": {},
   "outputs": [
    {
     "name": "stdout",
     "output_type": "stream",
     "text": [
      " \n",
      "*   *\n",
      "*   *\n",
      "*   *\n",
      " * *\n"
     ]
    }
   ],
   "source": [
    "x=5\n",
    "while x>0:\n",
    "    if x==1:\n",
    "        print(\" * *\")\n",
    "    elif x==5:\n",
    "        print(\" \")\n",
    "    else:\n",
    "        print(\"*   *\")\n",
    "    x-=1"
   ]
  },
  {
   "cell_type": "code",
   "execution_count": 22,
   "id": "054d6f4c",
   "metadata": {},
   "outputs": [
    {
     "name": "stdout",
     "output_type": "stream",
     "text": [
      " \n",
      "*   *\n",
      "*   *\n",
      " * * \n",
      "  *  \n"
     ]
    }
   ],
   "source": [
    "x=5\n",
    "while x>0:\n",
    "    if x==1:\n",
    "        print(\"  *  \")\n",
    "    elif x==2:\n",
    "        print(\" * * \")\n",
    "    elif x==5:\n",
    "        print(\" \")\n",
    "    else:\n",
    "        print(\"*   *\")\n",
    "    x-=1"
   ]
  },
  {
   "cell_type": "code",
   "execution_count": 23,
   "id": "b7e8cc52",
   "metadata": {},
   "outputs": [
    {
     "name": "stdout",
     "output_type": "stream",
     "text": [
      "       \n",
      "       \n",
      "*   *   *\n",
      "*   *   *\n",
      "  * * * \n"
     ]
    }
   ],
   "source": [
    "x=5\n",
    "while x>0:\n",
    "    if x==1:\n",
    "        print(\"  * * * \")\n",
    "    elif x==2 or x==3:\n",
    "        print(\"*   *   *\")\n",
    "    else:\n",
    "        print(\"       \")\n",
    "    x-=1"
   ]
  },
  {
   "cell_type": "code",
   "execution_count": 24,
   "id": "ad134faa",
   "metadata": {},
   "outputs": [
    {
     "name": "stdout",
     "output_type": "stream",
     "text": [
      "     \n",
      "     \n",
      " * * \n",
      "  *  \n",
      " * * \n"
     ]
    }
   ],
   "source": [
    "x=5 \n",
    "while x>0:\n",
    "    if x==3 or x==1:\n",
    "        print(\" * * \")\n",
    "    elif x==2:\n",
    "        print(\"  *  \")\n",
    "    else:\n",
    "        print(\"     \")\n",
    "    x-=1"
   ]
  },
  {
   "cell_type": "code",
   "execution_count": 25,
   "id": "3c5e078e",
   "metadata": {},
   "outputs": [
    {
     "name": "stdout",
     "output_type": "stream",
     "text": [
      " \n",
      "*    *\n",
      " *  * \n",
      "   *\n",
      "  *\n"
     ]
    }
   ],
   "source": [
    "x=5\n",
    "while x>0:\n",
    "    if x==4:\n",
    "        print(\"*    *\")\n",
    "    elif x==3:\n",
    "        print(\" *  * \")\n",
    "    elif x==2:\n",
    "        print(\"   *\")\n",
    "    elif x==1:\n",
    "        print(\"  *\")\n",
    "    else:\n",
    "        print(\" \")\n",
    "    x-=1"
   ]
  },
  {
   "cell_type": "code",
   "execution_count": 26,
   "id": "05c88e39",
   "metadata": {},
   "outputs": [
    {
     "name": "stdout",
     "output_type": "stream",
     "text": [
      " \n",
      "* * *\n",
      "   * \n",
      " *  \n",
      "* * *\n"
     ]
    }
   ],
   "source": [
    "x=5\n",
    "while x>0:\n",
    "    if x==5:\n",
    "        print(\" \")\n",
    "    elif x==3:\n",
    "        print(\"   * \")\n",
    "    elif x==2:\n",
    "        print(\" *  \")\n",
    "    else:\n",
    "        print(\"* * *\")\n",
    "    x-=1"
   ]
  },
  {
   "cell_type": "code",
   "execution_count": null,
   "id": "5a8a088a",
   "metadata": {},
   "outputs": [],
   "source": []
  }
 ],
 "metadata": {
  "kernelspec": {
   "display_name": "Python 3 (ipykernel)",
   "language": "python",
   "name": "python3"
  },
  "language_info": {
   "codemirror_mode": {
    "name": "ipython",
    "version": 3
   },
   "file_extension": ".py",
   "mimetype": "text/x-python",
   "name": "python",
   "nbconvert_exporter": "python",
   "pygments_lexer": "ipython3",
   "version": "3.9.12"
  }
 },
 "nbformat": 4,
 "nbformat_minor": 5
}
