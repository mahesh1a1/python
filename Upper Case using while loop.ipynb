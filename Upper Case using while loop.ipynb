{
 "cells": [
  {
   "cell_type": "code",
   "execution_count": 1,
   "id": "0570be44",
   "metadata": {},
   "outputs": [
    {
     "name": "stdout",
     "output_type": "stream",
     "text": [
      "0\n",
      "1\n",
      "2\n"
     ]
    }
   ],
   "source": [
    "x=0\n",
    "while x<3:\n",
    "    print(x)\n",
    "    x=x+1"
   ]
  },
  {
   "cell_type": "code",
   "execution_count": 3,
   "id": "29fe2a35",
   "metadata": {},
   "outputs": [
    {
     "name": "stdout",
     "output_type": "stream",
     "text": [
      "  * \n",
      "*   *\n",
      "* * *\n",
      "*   *\n",
      "*   *\n"
     ]
    }
   ],
   "source": [
    "x=0\n",
    "while x<5:\n",
    "    if x==0:\n",
    "        print(\"  * \")\n",
    "    elif x==1 or x==3 or x==4:\n",
    "        print(\"*   *\")\n",
    "    else:\n",
    "        print(\"* * *\")\n",
    "    x=x+1"
   ]
  },
  {
   "cell_type": "code",
   "execution_count": 4,
   "id": "4cf50adf",
   "metadata": {},
   "outputs": [
    {
     "name": "stdout",
     "output_type": "stream",
     "text": [
      "* * *\n",
      "*   *\n",
      "* *\n",
      "*   *\n",
      "* * *\n"
     ]
    }
   ],
   "source": [
    " x=0\n",
    "while x<5:\n",
    "    if x==0 or x==4:\n",
    "        print(\"* * *\")\n",
    "    elif x==1 or x==3:\n",
    "        print(\"*   *\")\n",
    "    else:\n",
    "        print(\"* *\")\n",
    "    x=x+1"
   ]
  },
  {
   "cell_type": "code",
   "execution_count": 54,
   "id": "d9305bf6",
   "metadata": {},
   "outputs": [
    {
     "name": "stdout",
     "output_type": "stream",
     "text": [
      " * * *\n",
      "*\n",
      "*\n",
      "*\n",
      " * * *\n"
     ]
    }
   ],
   "source": [
    " x=0\n",
    "while x<5:\n",
    "    if x==0 or x==4:\n",
    "        print(\" * * *\")\n",
    "    else:\n",
    "        print(\"*\")\n",
    "    x=x+1"
   ]
  },
  {
   "cell_type": "code",
   "execution_count": 6,
   "id": "2ceb5269",
   "metadata": {},
   "outputs": [
    {
     "name": "stdout",
     "output_type": "stream",
     "text": [
      "* *\n",
      "*   *\n",
      "*   *\n",
      "*   *\n",
      "* *\n"
     ]
    }
   ],
   "source": [
    " x=0\n",
    "while x<5:\n",
    "    if x==0 or x==4:\n",
    "        print(\"* *\")\n",
    "    else:\n",
    "        print(\"*   *\")\n",
    "    x=x+1"
   ]
  },
  {
   "cell_type": "code",
   "execution_count": 7,
   "id": "3ec1585e",
   "metadata": {},
   "outputs": [
    {
     "name": "stdout",
     "output_type": "stream",
     "text": [
      "* * *\n",
      "*\n",
      "* * *\n",
      "*\n",
      "* * *\n"
     ]
    }
   ],
   "source": [
    " x=0\n",
    "while x<5:\n",
    "    if x==0 or x==2 or x==4:\n",
    "        print(\"* * *\")\n",
    "    else:\n",
    "        print(\"*\")\n",
    "    x=x+1"
   ]
  },
  {
   "cell_type": "code",
   "execution_count": 8,
   "id": "6cd35825",
   "metadata": {},
   "outputs": [
    {
     "name": "stdout",
     "output_type": "stream",
     "text": [
      "* * *\n",
      "*\n",
      "* * *\n",
      "*\n",
      "*\n"
     ]
    }
   ],
   "source": [
    " x=0\n",
    "while x<5:\n",
    "    if x==0 or x==2:\n",
    "        print(\"* * *\")\n",
    "    else:\n",
    "        print(\"*\")\n",
    "    x=x+1"
   ]
  },
  {
   "cell_type": "code",
   "execution_count": 17,
   "id": "a1046996",
   "metadata": {},
   "outputs": [
    {
     "name": "stdout",
     "output_type": "stream",
     "text": [
      " * * \n",
      "*\n",
      "*\n",
      "* * *\n",
      "*  *\n"
     ]
    }
   ],
   "source": [
    " x=0\n",
    "while x<5:\n",
    "    if x==0:\n",
    "        print(\" * * \")\n",
    "    elif x==1 or x==2:\n",
    "        print(\"*\")\n",
    "    elif x==3:\n",
    "        print(\"* * *\")\n",
    "    else:\n",
    "        print(\"*  *\")\n",
    "    x=x+1"
   ]
  },
  {
   "cell_type": "code",
   "execution_count": 21,
   "id": "6e6b29bb",
   "metadata": {},
   "outputs": [
    {
     "name": "stdout",
     "output_type": "stream",
     "text": [
      "*   *\n",
      "*   *\n",
      "* * *\n",
      "*   *\n",
      "*   *\n"
     ]
    }
   ],
   "source": [
    "x=0\n",
    "while x<5:\n",
    "    if x==0 or x==1 or x==3 or x==4:\n",
    "        print(\"*   *\")\n",
    "    else:\n",
    "        print(\"* * *\")\n",
    "    x=x+1"
   ]
  },
  {
   "cell_type": "code",
   "execution_count": 26,
   "id": "d3a25db5",
   "metadata": {},
   "outputs": [
    {
     "name": "stdout",
     "output_type": "stream",
     "text": [
      "*  *  *\n",
      "   * \n",
      "   * \n",
      "   * \n",
      "*  *  *\n"
     ]
    }
   ],
   "source": [
    "x=0\n",
    "while x<5:\n",
    "    if x==0 or x==4:\n",
    "        print(\"*  *  *\")\n",
    "    else:\n",
    "        print(\"   * \")\n",
    "    x=x+1"
   ]
  },
  {
   "cell_type": "code",
   "execution_count": 28,
   "id": "48eba8cd",
   "metadata": {},
   "outputs": [
    {
     "name": "stdout",
     "output_type": "stream",
     "text": [
      "*  *  *\n",
      "   * \n",
      "   * \n",
      "*  *\n",
      "* *\n"
     ]
    }
   ],
   "source": [
    "x=0\n",
    "while x<5:\n",
    "    if x==0:\n",
    "        print(\"*  *  *\")\n",
    "    elif x==1 or x==2:\n",
    "        print(\"   * \")\n",
    "    elif x==3:\n",
    "        print(\"*  *\")\n",
    "    else:\n",
    "        print(\"* *\")\n",
    "    x=x+1"
   ]
  },
  {
   "cell_type": "code",
   "execution_count": 31,
   "id": "2d11d50c",
   "metadata": {},
   "outputs": [
    {
     "name": "stdout",
     "output_type": "stream",
     "text": [
      "*     *\n",
      "*    *\n",
      "*  *\n",
      "* *\n",
      "*  *\n",
      "*    *\n",
      "*     *\n"
     ]
    }
   ],
   "source": [
    "x=0\n",
    "while x<7:\n",
    "    if x==0 or x==6:\n",
    "        print(\"*     *\")\n",
    "    elif x==1 or x==5:\n",
    "        print(\"*    *\")\n",
    "    elif x==2 or x==4:\n",
    "        print(\"*  *\")\n",
    "    else:\n",
    "        print(\"* *\")\n",
    "    x=x+1   "
   ]
  },
  {
   "cell_type": "code",
   "execution_count": 33,
   "id": "4403be80",
   "metadata": {},
   "outputs": [
    {
     "name": "stdout",
     "output_type": "stream",
     "text": [
      "*\n",
      "*\n",
      "*\n",
      "*\n",
      "* * * *\n"
     ]
    }
   ],
   "source": [
    "x=0\n",
    "while x<5:\n",
    "    if x==0 or x==1 or x==2 or x==3:\n",
    "        print(\"*\")\n",
    "    else:\n",
    "        print(\"* * * *\")\n",
    "    x=x+1"
   ]
  },
  {
   "cell_type": "code",
   "execution_count": 53,
   "id": "22252c41",
   "metadata": {},
   "outputs": [
    {
     "name": "stdout",
     "output_type": "stream",
     "text": [
      "*        *\n",
      "* *    * *\n",
      "*    *   *\n",
      "*        *\n",
      "*        *\n"
     ]
    }
   ],
   "source": [
    "x=0\n",
    "while x<5:    \n",
    "    if x==0:\n",
    "        print(\"*        *\")\n",
    "    elif x==1:\n",
    "        print(\"* *    * *\")\n",
    "    elif x==2:\n",
    "        print(\"*    *   *\")\n",
    "    else:\n",
    "        print(\"*        *\")\n",
    "    x=x+1"
   ]
  },
  {
   "cell_type": "code",
   "execution_count": 3,
   "id": "d2185f02",
   "metadata": {},
   "outputs": [
    {
     "name": "stdout",
     "output_type": "stream",
     "text": [
      "**    *\n",
      "* *   *\n",
      "*  *  *\n",
      "*   * *\n",
      "*    **\n"
     ]
    }
   ],
   "source": [
    "x=0\n",
    "while x<5:    \n",
    "    if x==0:\n",
    "        print(\"**    *\")\n",
    "    elif x==1:\n",
    "        print(\"* *   *\")\n",
    "    elif x==2:\n",
    "        print(\"*  *  *\")\n",
    "    elif x==3:\n",
    "        print(\"*   * *\")\n",
    "    else:\n",
    "        print(\"*    **\")\n",
    "    x=x+1"
   ]
  },
  {
   "cell_type": "code",
   "execution_count": 6,
   "id": "5484ebcf",
   "metadata": {},
   "outputs": [
    {
     "name": "stdout",
     "output_type": "stream",
     "text": [
      " * * *\n",
      "*     *\n",
      "*     *\n",
      "*     *\n",
      " * * *\n"
     ]
    }
   ],
   "source": [
    "x=0\n",
    "while x<5:    \n",
    "    if x==0 or x==4:\n",
    "        print(\" * * *\")\n",
    "    else:\n",
    "        print(\"*     *\")\n",
    "    x=x+1"
   ]
  },
  {
   "cell_type": "code",
   "execution_count": 8,
   "id": "3d046006",
   "metadata": {},
   "outputs": [
    {
     "name": "stdout",
     "output_type": "stream",
     "text": [
      "* * *\n",
      "*     *\n",
      "*     *\n",
      "*     *\n",
      "* * *\n",
      "*\n",
      "*\n",
      "*\n"
     ]
    }
   ],
   "source": [
    "x=0\n",
    "while x<8:    \n",
    "    if x==0 or x==4:\n",
    "        print(\"* * *\")\n",
    "    elif x==1 or x==2 or x==3:\n",
    "        print(\"*     *\")\n",
    "    else:\n",
    "        print(\"*\")\n",
    "    x=x+1"
   ]
  },
  {
   "cell_type": "code",
   "execution_count": 10,
   "id": "c9af431b",
   "metadata": {},
   "outputs": [
    {
     "name": "stdout",
     "output_type": "stream",
     "text": [
      " * * *\n",
      "*     *\n",
      "*     *\n",
      "*     *\n",
      " * * *\n",
      "      *\n"
     ]
    }
   ],
   "source": [
    "x=0\n",
    "while x<6:    \n",
    "    if x==0 or x==4:\n",
    "        print(\" * * *\")\n",
    "    elif x==1 or x==2 or x==3:\n",
    "        print(\"*     *\")\n",
    "    elif x==5:\n",
    "        print(\"      *\")\n",
    "    else:\n",
    "        print(\"        *\")\n",
    "    x=x+1"
   ]
  },
  {
   "cell_type": "code",
   "execution_count": 14,
   "id": "1f7197d5",
   "metadata": {},
   "outputs": [
    {
     "name": "stdout",
     "output_type": "stream",
     "text": [
      "* * *\n",
      "*     *\n",
      "*     *\n",
      "*     *\n",
      "* * *\n",
      "*     *\n",
      "*      *\n",
      "*       *\n"
     ]
    }
   ],
   "source": [
    "x=0\n",
    "while x<8:    \n",
    "    if x==0 or x==4:\n",
    "        print(\"* * *\")\n",
    "    elif x==1 or x==2 or x==3:\n",
    "        print(\"*     *\")\n",
    "    elif x==5:\n",
    "        print(\"*     *\")\n",
    "    elif x==6:\n",
    "        print(\"*      *\")\n",
    "    else:\n",
    "        print(\"*       *\")\n",
    "    x=x+1"
   ]
  },
  {
   "cell_type": "code",
   "execution_count": 24,
   "id": "e7c341de",
   "metadata": {},
   "outputs": [
    {
     "name": "stdout",
     "output_type": "stream",
     "text": [
      " * * *\n",
      "*\n",
      "*\n",
      " * * *\n",
      "      *\n",
      "      *\n",
      " * * *\n"
     ]
    }
   ],
   "source": [
    "x=0\n",
    "while x<7:    \n",
    "    if x==0 or x==3 or x==6:\n",
    "        print(\" * * *\")\n",
    "    elif x==1 or x==2:\n",
    "        print(\"*\")\n",
    "    else:\n",
    "        print(\"      *\")\n",
    "    x=x+1"
   ]
  },
  {
   "cell_type": "code",
   "execution_count": 25,
   "id": "5f22b324",
   "metadata": {},
   "outputs": [
    {
     "name": "stdout",
     "output_type": "stream",
     "text": [
      "*  *  *\n",
      "   * \n",
      "   * \n",
      "   * \n",
      "   * \n"
     ]
    }
   ],
   "source": [
    "x=0\n",
    "while x<5:\n",
    "    if x==0:\n",
    "        print(\"*  *  *\")\n",
    "    else:\n",
    "        print(\"   * \")\n",
    "    x=x+1"
   ]
  },
  {
   "cell_type": "code",
   "execution_count": 33,
   "id": "04745304",
   "metadata": {},
   "outputs": [
    {
     "name": "stdout",
     "output_type": "stream",
     "text": [
      "*     *\n",
      "*     *\n",
      "*     *\n",
      "*     *\n",
      " * * * \n"
     ]
    }
   ],
   "source": [
    "x=0\n",
    "while x<5:\n",
    "    if x==0 or x==1 or x==2 or x==3:\n",
    "        print(\"*     *\")\n",
    "    else:\n",
    "        print(\" * * * \")\n",
    "    x=x+1"
   ]
  },
  {
   "cell_type": "code",
   "execution_count": 32,
   "id": "130d5ac5",
   "metadata": {},
   "outputs": [
    {
     "name": "stdout",
     "output_type": "stream",
     "text": [
      "*     *\n",
      "*     *\n",
      "*     *\n",
      "*     *\n",
      "  * * \n"
     ]
    }
   ],
   "source": [
    "x=0\n",
    "while x<5:\n",
    "    if x==0 or x==1 or x==2 or x==3:\n",
    "        print(\"*     *\")\n",
    "    else:\n",
    "        print(\"  * * \")\n",
    "    x=x+1"
   ]
  },
  {
   "cell_type": "code",
   "execution_count": 35,
   "id": "8d63a07f",
   "metadata": {},
   "outputs": [
    {
     "name": "stdout",
     "output_type": "stream",
     "text": [
      "*       *\n",
      "*       *\n",
      "*   *   *\n",
      "* *   * *\n",
      "*       *\n"
     ]
    }
   ],
   "source": [
    "x=0\n",
    "while x<5:\n",
    "    if x==0 or x==1:\n",
    "        print(\"*       *\")\n",
    "    elif x==2:\n",
    "        print(\"*   *   *\")\n",
    "    elif x==3:\n",
    "        print(\"* *   * *\")\n",
    "    else:\n",
    "        print(\"*       *\")\n",
    "    x=x+1"
   ]
  },
  {
   "cell_type": "code",
   "execution_count": 36,
   "id": "dcc06915",
   "metadata": {},
   "outputs": [
    {
     "name": "stdout",
     "output_type": "stream",
     "text": [
      "*         *\n",
      "   *   *\n",
      "     *     \n",
      "   *   *\n",
      "*         *\n"
     ]
    }
   ],
   "source": [
    "x=0\n",
    "while x<5:\n",
    "    if x==0 or x==4:\n",
    "        print(\"*         *\")\n",
    "    elif x==1 or x==3:\n",
    "        print(\"   *   *\")\n",
    "    else:\n",
    "        print(\"     *     \")\n",
    "    x=x+1"
   ]
  },
  {
   "cell_type": "code",
   "execution_count": 40,
   "id": "5ccfd784",
   "metadata": {},
   "outputs": [
    {
     "name": "stdout",
     "output_type": "stream",
     "text": [
      "*     *\n",
      "*     *\n",
      "*     *\n",
      "*     *\n",
      "   * \n",
      "   * \n",
      "   * \n"
     ]
    }
   ],
   "source": [
    "x=0\n",
    "while x<7:\n",
    "    if x==0 or x==1 or x==2 or x==3:\n",
    "        print(\"*     *\")\n",
    "    else:\n",
    "        print(\"   * \")\n",
    "    x=x+1"
   ]
  },
  {
   "cell_type": "code",
   "execution_count": 43,
   "id": "52daacc6",
   "metadata": {},
   "outputs": [
    {
     "name": "stdout",
     "output_type": "stream",
     "text": [
      "* * * *\n",
      "     *\n",
      "   *\n",
      " *\n",
      "* * * *\n"
     ]
    }
   ],
   "source": [
    "x=0\n",
    "while x<5:\n",
    "    if x==0 or x==4:\n",
    "        print(\"* * * *\")\n",
    "    elif x==1:\n",
    "        print(\"     *\")\n",
    "    elif x==2:\n",
    "        print(\"   *\")\n",
    "    else:\n",
    "        print(\" *\")\n",
    "    x=x+1"
   ]
  },
  {
   "cell_type": "code",
   "execution_count": null,
   "id": "bdbaf322",
   "metadata": {},
   "outputs": [],
   "source": [
    " "
   ]
  },
  {
   "cell_type": "code",
   "execution_count": null,
   "id": "dcb5acc7",
   "metadata": {},
   "outputs": [],
   "source": [
    "##Lower Case"
   ]
  },
  {
   "cell_type": "code",
   "execution_count": 47,
   "id": "1d74be1e",
   "metadata": {},
   "outputs": [
    {
     "name": "stdout",
     "output_type": "stream",
     "text": [
      " * * *\n",
      "*     *\n",
      "*     *\n",
      "*     *\n",
      " * * *\n",
      "      *\n"
     ]
    }
   ],
   "source": [
    "x=0\n",
    "while x<6:    \n",
    "    if x==0 or x==4:\n",
    "        print(\" * * *\")\n",
    "    elif x==1 or x==2 or x==3:\n",
    "        print(\"*     *\")\n",
    "    elif x==5:\n",
    "        print(\"      *\")\n",
    "    else:\n",
    "        print(\"       *\")\n",
    "    x=x+1"
   ]
  },
  {
   "cell_type": "code",
   "execution_count": 51,
   "id": "a37ed04f",
   "metadata": {},
   "outputs": [
    {
     "name": "stdout",
     "output_type": "stream",
     "text": [
      "* \n",
      "* \n",
      "* \n",
      "* * *\n",
      "*     *\n",
      "*     *\n",
      "*     *\n",
      "* * *\n"
     ]
    }
   ],
   "source": [
    "x=0\n",
    "while x<8:    \n",
    "    if x==3 or x==7:\n",
    "        print(\"* * *\")\n",
    "    elif x==4 or x==5 or x==6:\n",
    "        print(\"*     *\")\n",
    "    else:\n",
    "        print(\"* \")\n",
    "    x=x+1"
   ]
  },
  {
   "cell_type": "code",
   "execution_count": 53,
   "id": "f2a62319",
   "metadata": {},
   "outputs": [
    {
     "name": "stdout",
     "output_type": "stream",
     "text": [
      " * * *\n",
      "*\n",
      "*\n",
      "*\n",
      " * * *\n"
     ]
    }
   ],
   "source": [
    " x=0\n",
    "while x<5:\n",
    "    if x==0 or x==4:\n",
    "        print(\" * * *\")\n",
    "    else:\n",
    "        print(\"*\")\n",
    "    x=x+1"
   ]
  },
  {
   "cell_type": "code",
   "execution_count": 63,
   "id": "8b2459d7",
   "metadata": {},
   "outputs": [
    {
     "name": "stdout",
     "output_type": "stream",
     "text": [
      "      *\n",
      "      *\n",
      "      *\n",
      "  * * *\n",
      "*     *\n",
      "*     *\n",
      "*     *\n",
      "  * * *\n"
     ]
    }
   ],
   "source": [
    "x=0\n",
    "while x<8:    \n",
    "    if x==3 or x==7:\n",
    "        print(\"  * * *\")\n",
    "    elif x==4 or x==5 or x==6:\n",
    "        print(\"*     *\")\n",
    "    else:\n",
    "        print(\"      *\")\n",
    "    x=x+1"
   ]
  },
  {
   "cell_type": "code",
   "execution_count": 66,
   "id": "94d57625",
   "metadata": {},
   "outputs": [
    {
     "name": "stdout",
     "output_type": "stream",
     "text": [
      " * * *\n",
      "*   * *\n",
      "*\n",
      "*\n",
      " * * *\n"
     ]
    }
   ],
   "source": [
    " x=0\n",
    "while x<5:\n",
    "    if x==0 or x==4:\n",
    "        print(\" * * *\")\n",
    "    elif x==1:\n",
    "        print(\"*   * *\")\n",
    "    else:\n",
    "        print(\"*\")\n",
    "    x=x+1"
   ]
  },
  {
   "cell_type": "code",
   "execution_count": 71,
   "id": "b224e318",
   "metadata": {},
   "outputs": [
    {
     "name": "stdout",
     "output_type": "stream",
     "text": [
      " * * *\n",
      "*  * *\n",
      "*\n",
      "*\n",
      "* * *\n",
      "*\n",
      "*\n",
      "*\n"
     ]
    }
   ],
   "source": [
    " x=0\n",
    "while x<8:\n",
    "    if x==0:\n",
    "        print(\" * * *\")\n",
    "    elif x==4:\n",
    "        print(\"* * *\")\n",
    "    elif x==1:\n",
    "        print(\"*  * *\")\n",
    "    else:\n",
    "        print(\"*\")\n",
    "    x=x+1"
   ]
  },
  {
   "cell_type": "code",
   "execution_count": 87,
   "id": "05525c50",
   "metadata": {},
   "outputs": [
    {
     "name": "stdout",
     "output_type": "stream",
     "text": [
      " * * *\n",
      "*     *\n",
      "*     *\n",
      "*     *\n",
      "  * * *\n",
      "      *\n",
      "      *\n",
      "   *  *\n",
      "   *  *\n",
      "    * *\n"
     ]
    }
   ],
   "source": [
    "x=0\n",
    "while x<10:    \n",
    "    if x==0:\n",
    "        print(\" * * *\")\n",
    "    elif x==4:\n",
    "        print(\"  * * *\")\n",
    "    elif x==1 or x==2 or x==3:\n",
    "        print(\"*     *\")\n",
    "    elif x==5 or x==6:\n",
    "        print(\"      *\")\n",
    "    elif x==7:\n",
    "        print(\"   *  *\")\n",
    "    elif x==8:\n",
    "        print(\"   *  *\")\n",
    "    else:\n",
    "        print(\"    * *\")\n",
    "    x=x+1"
   ]
  },
  {
   "cell_type": "code",
   "execution_count": 88,
   "id": "fd733d58",
   "metadata": {},
   "outputs": [
    {
     "name": "stdout",
     "output_type": "stream",
     "text": [
      "*\n",
      "*\n",
      "* * *\n",
      "*    *\n",
      "*    *\n"
     ]
    }
   ],
   "source": [
    "x=0\n",
    "while x<5:\n",
    "    if x==0 or x==1:\n",
    "        print(\"*\")\n",
    "    elif x==3 or x==4:\n",
    "        print(\"*    *\")\n",
    "    else:\n",
    "        print(\"* * *\")\n",
    "    x=x+1"
   ]
  },
  {
   "cell_type": "code",
   "execution_count": 89,
   "id": "46dbcb58",
   "metadata": {},
   "outputs": [
    {
     "name": "stdout",
     "output_type": "stream",
     "text": [
      "*\n",
      "*\n",
      "*\n",
      "*\n",
      "*\n"
     ]
    }
   ],
   "source": [
    "x=0\n",
    "while x<5:\n",
    "    if x==0 or x==1 or x==2 or x==3 or x==4:\n",
    "        print(\"*\")\n",
    "    x=x+1"
   ]
  },
  {
   "cell_type": "code",
   "execution_count": 91,
   "id": "1eda22e5",
   "metadata": {},
   "outputs": [
    {
     "name": "stdout",
     "output_type": "stream",
     "text": [
      "      *\n",
      "      *\n",
      "      *\n",
      "   *  *\n",
      "   *  *\n",
      "    * *\n"
     ]
    }
   ],
   "source": [
    "x=0\n",
    "while x<6:    \n",
    "    if x==0 or x==1 or x==2:\n",
    "        print(\"      *\")\n",
    "    elif x==3:\n",
    "        print(\"   *  *\")\n",
    "    elif x==4:\n",
    "        print(\"   *  *\")\n",
    "    else:\n",
    "        print(\"    * *\")\n",
    "    x=x+1"
   ]
  },
  {
   "cell_type": "code",
   "execution_count": 92,
   "id": "08d43635",
   "metadata": {},
   "outputs": [
    {
     "name": "stdout",
     "output_type": "stream",
     "text": [
      "*     *\n",
      "*    *\n",
      "*  *\n",
      "* *\n",
      "*  *\n",
      "*    *\n",
      "*     *\n"
     ]
    }
   ],
   "source": [
    "x=0\n",
    "while x<7:\n",
    "    if x==0 or x==6:\n",
    "        print(\"*     *\")\n",
    "    elif x==1 or x==5:\n",
    "        print(\"*    *\")\n",
    "    elif x==2 or x==4:\n",
    "        print(\"*  *\")\n",
    "    else:\n",
    "        print(\"* *\")\n",
    "    x=x+1 "
   ]
  },
  {
   "cell_type": "code",
   "execution_count": 93,
   "id": "c80caaef",
   "metadata": {},
   "outputs": [
    {
     "name": "stdout",
     "output_type": "stream",
     "text": [
      "      *\n",
      "      *\n",
      "      *\n",
      "      *   *\n",
      "      *  *\n",
      "      * *\n"
     ]
    }
   ],
   "source": [
    "x=0\n",
    "while x<6:    \n",
    "    if x==0 or x==1 or x==2:\n",
    "        print(\"      *\")\n",
    "    elif x==3:\n",
    "        print(\"      *   *\")\n",
    "    elif x==4:\n",
    "        print(\"      *  *\")\n",
    "    else:\n",
    "        print(\"      * *\")\n",
    "    x=x+1"
   ]
  },
  {
   "cell_type": "code",
   "execution_count": 110,
   "id": "3850042c",
   "metadata": {},
   "outputs": [
    {
     "name": "stdout",
     "output_type": "stream",
     "text": [
      "  * *   * * \n",
      "*     *     *\n",
      "*           *\n",
      "*           *\n",
      "*           *\n"
     ]
    }
   ],
   "source": [
    "x=0\n",
    "while x<5:    \n",
    "    if x==0:\n",
    "        print(\"  * *   * * \")\n",
    "    elif x==1:\n",
    "        print(\"*     *     *\")\n",
    "    else:\n",
    "        print(\"*           *\")\n",
    "    x=x+1"
   ]
  },
  {
   "cell_type": "code",
   "execution_count": 119,
   "id": "87330b43",
   "metadata": {},
   "outputs": [
    {
     "name": "stdout",
     "output_type": "stream",
     "text": [
      "*\n",
      " *\n",
      "   * *  \n",
      "  *    *\n",
      "  *    *\n",
      "  *    *\n",
      "  *    *\n"
     ]
    }
   ],
   "source": [
    "x=0\n",
    "while x<7:    \n",
    "    if x==2:\n",
    "        print(\"   * *  \")\n",
    "    elif x==0:\n",
    "        print(\"*\")\n",
    "    elif x==1:\n",
    "        print(\" *\")\n",
    "    else:\n",
    "        print(\"  *    *\")\n",
    "    x=x+1"
   ]
  },
  {
   "cell_type": "code",
   "execution_count": 120,
   "id": "07bbd6b3",
   "metadata": {},
   "outputs": [
    {
     "name": "stdout",
     "output_type": "stream",
     "text": [
      " * * *\n",
      "*     *\n",
      "*     *\n",
      "*     *\n",
      " * * *\n"
     ]
    }
   ],
   "source": [
    "x=0\n",
    "while x<5:    \n",
    "    if x==0 or x==4:\n",
    "        print(\" * * *\")\n",
    "    else:\n",
    "        print(\"*     *\")\n",
    "    x=x+1"
   ]
  },
  {
   "cell_type": "code",
   "execution_count": 121,
   "id": "aa163f84",
   "metadata": {},
   "outputs": [
    {
     "name": "stdout",
     "output_type": "stream",
     "text": [
      "* * *\n",
      "*     *\n",
      "*     *\n",
      "*     *\n",
      "* * *\n",
      "*\n",
      "*\n",
      "*\n"
     ]
    }
   ],
   "source": [
    "x=0\n",
    "while x<8:    \n",
    "    if x==0 or x==4:\n",
    "        print(\"* * *\")\n",
    "    elif x==1 or x==2 or x==3:\n",
    "        print(\"*     *\")\n",
    "    else:\n",
    "        print(\"*\")\n",
    "    x=x+1"
   ]
  },
  {
   "cell_type": "code",
   "execution_count": null,
   "id": "dd3a2f8b",
   "metadata": {},
   "outputs": [],
   "source": []
  },
  {
   "cell_type": "code",
   "execution_count": null,
   "id": "e9882312",
   "metadata": {},
   "outputs": [],
   "source": []
  }
 ],
 "metadata": {
  "kernelspec": {
   "display_name": "Python 3 (ipykernel)",
   "language": "python",
   "name": "python3"
  },
  "language_info": {
   "codemirror_mode": {
    "name": "ipython",
    "version": 3
   },
   "file_extension": ".py",
   "mimetype": "text/x-python",
   "name": "python",
   "nbconvert_exporter": "python",
   "pygments_lexer": "ipython3",
   "version": "3.9.12"
  }
 },
 "nbformat": 4,
 "nbformat_minor": 5
}
