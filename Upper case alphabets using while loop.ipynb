{
 "cells": [
  {
   "cell_type": "code",
   "execution_count": 1,
   "id": "0570be44",
   "metadata": {},
   "outputs": [],
   "source": [
    "#Upper Case A-Z"
   ]
  },
  {
   "cell_type": "code",
   "execution_count": 2,
   "id": "29fe2a35",
   "metadata": {},
   "outputs": [
    {
     "name": "stdout",
     "output_type": "stream",
     "text": [
      "  * \n",
      "*   *\n",
      "* * *\n",
      "*   *\n",
      "*   *\n"
     ]
    }
   ],
   "source": [
    "x=0\n",
    "while x<5:\n",
    "    if x==0:\n",
    "        print(\"  * \")\n",
    "    elif x==1 or x==3 or x==4:\n",
    "        print(\"*   *\")\n",
    "    else:\n",
    "        print(\"* * *\")\n",
    "    x=x+1"
   ]
  },
  {
   "cell_type": "code",
   "execution_count": 3,
   "id": "4cf50adf",
   "metadata": {},
   "outputs": [
    {
     "name": "stdout",
     "output_type": "stream",
     "text": [
      "* * *\n",
      "*   *\n",
      "* *\n",
      "*   *\n",
      "* * *\n"
     ]
    }
   ],
   "source": [
    " x=0\n",
    "while x<5:\n",
    "    if x==0 or x==4:\n",
    "        print(\"* * *\")\n",
    "    elif x==1 or x==3:\n",
    "        print(\"*   *\")\n",
    "    else:\n",
    "        print(\"* *\")\n",
    "    x=x+1"
   ]
  },
  {
   "cell_type": "code",
   "execution_count": 4,
   "id": "d9305bf6",
   "metadata": {},
   "outputs": [
    {
     "name": "stdout",
     "output_type": "stream",
     "text": [
      " * * *\n",
      "*\n",
      "*\n",
      "*\n",
      " * * *\n"
     ]
    }
   ],
   "source": [
    " x=0\n",
    "while x<5:\n",
    "    if x==0 or x==4:\n",
    "        print(\" * * *\")\n",
    "    else:\n",
    "        print(\"*\")\n",
    "    x=x+1"
   ]
  },
  {
   "cell_type": "code",
   "execution_count": 5,
   "id": "2ceb5269",
   "metadata": {},
   "outputs": [
    {
     "name": "stdout",
     "output_type": "stream",
     "text": [
      "* *\n",
      "*   *\n",
      "*   *\n",
      "*   *\n",
      "* *\n"
     ]
    }
   ],
   "source": [
    " x=0\n",
    "while x<5:\n",
    "    if x==0 or x==4:\n",
    "        print(\"* *\")\n",
    "    else:\n",
    "        print(\"*   *\")\n",
    "    x=x+1"
   ]
  },
  {
   "cell_type": "code",
   "execution_count": 6,
   "id": "3ec1585e",
   "metadata": {},
   "outputs": [
    {
     "name": "stdout",
     "output_type": "stream",
     "text": [
      "* * *\n",
      "*\n",
      "* * *\n",
      "*\n",
      "* * *\n"
     ]
    }
   ],
   "source": [
    " x=0\n",
    "while x<5:\n",
    "    if x==0 or x==2 or x==4:\n",
    "        print(\"* * *\")\n",
    "    else:\n",
    "        print(\"*\")\n",
    "    x=x+1"
   ]
  },
  {
   "cell_type": "code",
   "execution_count": 7,
   "id": "6cd35825",
   "metadata": {},
   "outputs": [
    {
     "name": "stdout",
     "output_type": "stream",
     "text": [
      "* * *\n",
      "*\n",
      "* * *\n",
      "*\n",
      "*\n"
     ]
    }
   ],
   "source": [
    " x=0\n",
    "while x<5:\n",
    "    if x==0 or x==2:\n",
    "        print(\"* * *\")\n",
    "    else:\n",
    "        print(\"*\")\n",
    "    x=x+1"
   ]
  },
  {
   "cell_type": "code",
   "execution_count": 8,
   "id": "a1046996",
   "metadata": {},
   "outputs": [
    {
     "name": "stdout",
     "output_type": "stream",
     "text": [
      " * * \n",
      "*\n",
      "*\n",
      "* * *\n",
      "*  *\n"
     ]
    }
   ],
   "source": [
    " x=0\n",
    "while x<5:\n",
    "    if x==0:\n",
    "        print(\" * * \")\n",
    "    elif x==1 or x==2:\n",
    "        print(\"*\")\n",
    "    elif x==3:\n",
    "        print(\"* * *\")\n",
    "    else:\n",
    "        print(\"*  *\")\n",
    "    x=x+1"
   ]
  },
  {
   "cell_type": "code",
   "execution_count": 9,
   "id": "6e6b29bb",
   "metadata": {},
   "outputs": [
    {
     "name": "stdout",
     "output_type": "stream",
     "text": [
      "*   *\n",
      "*   *\n",
      "* * *\n",
      "*   *\n",
      "*   *\n"
     ]
    }
   ],
   "source": [
    "x=0\n",
    "while x<5:\n",
    "    if x==0 or x==1 or x==3 or x==4:\n",
    "        print(\"*   *\")\n",
    "    else:\n",
    "        print(\"* * *\")\n",
    "    x=x+1"
   ]
  },
  {
   "cell_type": "code",
   "execution_count": 10,
   "id": "d3a25db5",
   "metadata": {},
   "outputs": [
    {
     "name": "stdout",
     "output_type": "stream",
     "text": [
      "*  *  *\n",
      "   * \n",
      "   * \n",
      "   * \n",
      "*  *  *\n"
     ]
    }
   ],
   "source": [
    "x=0\n",
    "while x<5:\n",
    "    if x==0 or x==4:\n",
    "        print(\"*  *  *\")\n",
    "    else:\n",
    "        print(\"   * \")\n",
    "    x=x+1"
   ]
  },
  {
   "cell_type": "code",
   "execution_count": 11,
   "id": "48eba8cd",
   "metadata": {},
   "outputs": [
    {
     "name": "stdout",
     "output_type": "stream",
     "text": [
      "*  *  *\n",
      "   * \n",
      "   * \n",
      "*  *\n",
      "* *\n"
     ]
    }
   ],
   "source": [
    "x=0\n",
    "while x<5:\n",
    "    if x==0:\n",
    "        print(\"*  *  *\")\n",
    "    elif x==1 or x==2:\n",
    "        print(\"   * \")\n",
    "    elif x==3:\n",
    "        print(\"*  *\")\n",
    "    else:\n",
    "        print(\"* *\")\n",
    "    x=x+1"
   ]
  },
  {
   "cell_type": "code",
   "execution_count": 12,
   "id": "2d11d50c",
   "metadata": {},
   "outputs": [
    {
     "name": "stdout",
     "output_type": "stream",
     "text": [
      "*     *\n",
      "*    *\n",
      "*  *\n",
      "* *\n",
      "*  *\n",
      "*    *\n",
      "*     *\n"
     ]
    }
   ],
   "source": [
    "x=0\n",
    "while x<7:\n",
    "    if x==0 or x==6:\n",
    "        print(\"*     *\")\n",
    "    elif x==1 or x==5:\n",
    "        print(\"*    *\")\n",
    "    elif x==2 or x==4:\n",
    "        print(\"*  *\")\n",
    "    else:\n",
    "        print(\"* *\")\n",
    "    x=x+1   "
   ]
  },
  {
   "cell_type": "code",
   "execution_count": 13,
   "id": "4403be80",
   "metadata": {},
   "outputs": [
    {
     "name": "stdout",
     "output_type": "stream",
     "text": [
      "*\n",
      "*\n",
      "*\n",
      "*\n",
      "* * * *\n"
     ]
    }
   ],
   "source": [
    "x=0\n",
    "while x<5:\n",
    "    if x==0 or x==1 or x==2 or x==3:\n",
    "        print(\"*\")\n",
    "    else:\n",
    "        print(\"* * * *\")\n",
    "    x=x+1"
   ]
  },
  {
   "cell_type": "code",
   "execution_count": 14,
   "id": "22252c41",
   "metadata": {},
   "outputs": [
    {
     "name": "stdout",
     "output_type": "stream",
     "text": [
      "*        *\n",
      "* *    * *\n",
      "*    *   *\n",
      "*        *\n",
      "*        *\n"
     ]
    }
   ],
   "source": [
    "x=0\n",
    "while x<5:    \n",
    "    if x==0:\n",
    "        print(\"*        *\")\n",
    "    elif x==1:\n",
    "        print(\"* *    * *\")\n",
    "    elif x==2:\n",
    "        print(\"*    *   *\")\n",
    "    else:\n",
    "        print(\"*        *\")\n",
    "    x=x+1"
   ]
  },
  {
   "cell_type": "code",
   "execution_count": 15,
   "id": "d2185f02",
   "metadata": {},
   "outputs": [
    {
     "name": "stdout",
     "output_type": "stream",
     "text": [
      "**    *\n",
      "* *   *\n",
      "*  *  *\n",
      "*   * *\n",
      "*    **\n"
     ]
    }
   ],
   "source": [
    "x=0\n",
    "while x<5:    \n",
    "    if x==0:\n",
    "        print(\"**    *\")\n",
    "    elif x==1:\n",
    "        print(\"* *   *\")\n",
    "    elif x==2:\n",
    "        print(\"*  *  *\")\n",
    "    elif x==3:\n",
    "        print(\"*   * *\")\n",
    "    else:\n",
    "        print(\"*    **\")\n",
    "    x=x+1"
   ]
  },
  {
   "cell_type": "code",
   "execution_count": 16,
   "id": "5484ebcf",
   "metadata": {},
   "outputs": [
    {
     "name": "stdout",
     "output_type": "stream",
     "text": [
      " * * *\n",
      "*     *\n",
      "*     *\n",
      "*     *\n",
      " * * *\n"
     ]
    }
   ],
   "source": [
    "x=0\n",
    "while x<5:    \n",
    "    if x==0 or x==4:\n",
    "        print(\" * * *\")\n",
    "    else:\n",
    "        print(\"*     *\")\n",
    "    x=x+1"
   ]
  },
  {
   "cell_type": "code",
   "execution_count": 17,
   "id": "3d046006",
   "metadata": {},
   "outputs": [
    {
     "name": "stdout",
     "output_type": "stream",
     "text": [
      "* * *\n",
      "*     *\n",
      "*     *\n",
      "*     *\n",
      "* * *\n",
      "*\n",
      "*\n",
      "*\n"
     ]
    }
   ],
   "source": [
    "x=0\n",
    "while x<8:    \n",
    "    if x==0 or x==4:\n",
    "        print(\"* * *\")\n",
    "    elif x==1 or x==2 or x==3:\n",
    "        print(\"*     *\")\n",
    "    else:\n",
    "        print(\"*\")\n",
    "    x=x+1"
   ]
  },
  {
   "cell_type": "code",
   "execution_count": 18,
   "id": "c9af431b",
   "metadata": {},
   "outputs": [
    {
     "name": "stdout",
     "output_type": "stream",
     "text": [
      " * * *\n",
      "*     *\n",
      "*     *\n",
      "*     *\n",
      " * * *\n",
      "      *\n"
     ]
    }
   ],
   "source": [
    "x=0\n",
    "while x<6:    \n",
    "    if x==0 or x==4:\n",
    "        print(\" * * *\")\n",
    "    elif x==1 or x==2 or x==3:\n",
    "        print(\"*     *\")\n",
    "    elif x==5:\n",
    "        print(\"      *\")\n",
    "    else:\n",
    "        print(\"        *\")\n",
    "    x=x+1"
   ]
  },
  {
   "cell_type": "code",
   "execution_count": 19,
   "id": "1f7197d5",
   "metadata": {},
   "outputs": [
    {
     "name": "stdout",
     "output_type": "stream",
     "text": [
      "* * *\n",
      "*     *\n",
      "*     *\n",
      "*     *\n",
      "* * *\n",
      "*     *\n",
      "*      *\n",
      "*       *\n"
     ]
    }
   ],
   "source": [
    "x=0\n",
    "while x<8:    \n",
    "    if x==0 or x==4:\n",
    "        print(\"* * *\")\n",
    "    elif x==1 or x==2 or x==3:\n",
    "        print(\"*     *\")\n",
    "    elif x==5:\n",
    "        print(\"*     *\")\n",
    "    elif x==6:\n",
    "        print(\"*      *\")\n",
    "    else:\n",
    "        print(\"*       *\")\n",
    "    x=x+1"
   ]
  },
  {
   "cell_type": "code",
   "execution_count": 20,
   "id": "e7c341de",
   "metadata": {},
   "outputs": [
    {
     "name": "stdout",
     "output_type": "stream",
     "text": [
      " * * *\n",
      "*\n",
      "*\n",
      " * * *\n",
      "      *\n",
      "      *\n",
      " * * *\n"
     ]
    }
   ],
   "source": [
    "x=0\n",
    "while x<7:    \n",
    "    if x==0 or x==3 or x==6:\n",
    "        print(\" * * *\")\n",
    "    elif x==1 or x==2:\n",
    "        print(\"*\")\n",
    "    else:\n",
    "        print(\"      *\")\n",
    "    x=x+1"
   ]
  },
  {
   "cell_type": "code",
   "execution_count": 21,
   "id": "5f22b324",
   "metadata": {},
   "outputs": [
    {
     "name": "stdout",
     "output_type": "stream",
     "text": [
      "*  *  *\n",
      "   * \n",
      "   * \n",
      "   * \n",
      "   * \n"
     ]
    }
   ],
   "source": [
    "x=0\n",
    "while x<5:\n",
    "    if x==0:\n",
    "        print(\"*  *  *\")\n",
    "    else:\n",
    "        print(\"   * \")\n",
    "    x=x+1"
   ]
  },
  {
   "cell_type": "code",
   "execution_count": 22,
   "id": "04745304",
   "metadata": {},
   "outputs": [
    {
     "name": "stdout",
     "output_type": "stream",
     "text": [
      "*     *\n",
      "*     *\n",
      "*     *\n",
      "*     *\n",
      " * * * \n"
     ]
    }
   ],
   "source": [
    "x=0\n",
    "while x<5:\n",
    "    if x==0 or x==1 or x==2 or x==3:\n",
    "        print(\"*     *\")\n",
    "    else:\n",
    "        print(\" * * * \")\n",
    "    x=x+1"
   ]
  },
  {
   "cell_type": "code",
   "execution_count": 23,
   "id": "130d5ac5",
   "metadata": {},
   "outputs": [
    {
     "name": "stdout",
     "output_type": "stream",
     "text": [
      "*     *\n",
      "*     *\n",
      "*     *\n",
      "*     *\n",
      "  * * \n"
     ]
    }
   ],
   "source": [
    "x=0\n",
    "while x<5:\n",
    "    if x==0 or x==1 or x==2 or x==3:\n",
    "        print(\"*     *\")\n",
    "    else:\n",
    "        print(\"  * * \")\n",
    "    x=x+1"
   ]
  },
  {
   "cell_type": "code",
   "execution_count": 24,
   "id": "8d63a07f",
   "metadata": {},
   "outputs": [
    {
     "name": "stdout",
     "output_type": "stream",
     "text": [
      "*       *\n",
      "*       *\n",
      "*   *   *\n",
      "* *   * *\n",
      "*       *\n"
     ]
    }
   ],
   "source": [
    "x=0\n",
    "while x<5:\n",
    "    if x==0 or x==1:\n",
    "        print(\"*       *\")\n",
    "    elif x==2:\n",
    "        print(\"*   *   *\")\n",
    "    elif x==3:\n",
    "        print(\"* *   * *\")\n",
    "    else:\n",
    "        print(\"*       *\")\n",
    "    x=x+1"
   ]
  },
  {
   "cell_type": "code",
   "execution_count": 25,
   "id": "dcc06915",
   "metadata": {},
   "outputs": [
    {
     "name": "stdout",
     "output_type": "stream",
     "text": [
      "*         *\n",
      "   *   *\n",
      "     *     \n",
      "   *   *\n",
      "*         *\n"
     ]
    }
   ],
   "source": [
    "x=0\n",
    "while x<5:\n",
    "    if x==0 or x==4:\n",
    "        print(\"*         *\")\n",
    "    elif x==1 or x==3:\n",
    "        print(\"   *   *\")\n",
    "    else:\n",
    "        print(\"     *     \")\n",
    "    x=x+1"
   ]
  },
  {
   "cell_type": "code",
   "execution_count": 26,
   "id": "5ccfd784",
   "metadata": {},
   "outputs": [
    {
     "name": "stdout",
     "output_type": "stream",
     "text": [
      "*     *\n",
      "*     *\n",
      "*     *\n",
      "*     *\n",
      "   * \n",
      "   * \n",
      "   * \n"
     ]
    }
   ],
   "source": [
    "x=0\n",
    "while x<7:\n",
    "    if x==0 or x==1 or x==2 or x==3:\n",
    "        print(\"*     *\")\n",
    "    else:\n",
    "        print(\"   * \")\n",
    "    x=x+1"
   ]
  },
  {
   "cell_type": "code",
   "execution_count": 27,
   "id": "52daacc6",
   "metadata": {},
   "outputs": [
    {
     "name": "stdout",
     "output_type": "stream",
     "text": [
      "* * * *\n",
      "     *\n",
      "   *\n",
      " *\n",
      "* * * *\n"
     ]
    }
   ],
   "source": [
    "x=0\n",
    "while x<5:\n",
    "    if x==0 or x==4:\n",
    "        print(\"* * * *\")\n",
    "    elif x==1:\n",
    "        print(\"     *\")\n",
    "    elif x==2:\n",
    "        print(\"   *\")\n",
    "    else:\n",
    "        print(\" *\")\n",
    "    x=x+1"
   ]
  },
  {
   "cell_type": "code",
   "execution_count": null,
   "id": "bdbaf322",
   "metadata": {},
   "outputs": [],
   "source": [
    " "
   ]
  },
  {
   "cell_type": "code",
   "execution_count": 28,
   "id": "dcb5acc7",
   "metadata": {},
   "outputs": [],
   "source": []
  },
  {
   "cell_type": "code",
   "execution_count": null,
   "id": "1d74be1e",
   "metadata": {},
   "outputs": [],
   "source": []
  },
  {
   "cell_type": "code",
   "execution_count": null,
   "id": "a37ed04f",
   "metadata": {},
   "outputs": [],
   "source": []
  },
  {
   "cell_type": "code",
   "execution_count": null,
   "id": "f2a62319",
   "metadata": {},
   "outputs": [],
   "source": []
  },
  {
   "cell_type": "code",
   "execution_count": null,
   "id": "8b2459d7",
   "metadata": {},
   "outputs": [],
   "source": []
  },
  {
   "cell_type": "code",
   "execution_count": null,
   "id": "94d57625",
   "metadata": {},
   "outputs": [],
   "source": []
  },
  {
   "cell_type": "code",
   "execution_count": null,
   "id": "b224e318",
   "metadata": {},
   "outputs": [],
   "source": []
  },
  {
   "cell_type": "code",
   "execution_count": null,
   "id": "05525c50",
   "metadata": {},
   "outputs": [],
   "source": []
  },
  {
   "cell_type": "code",
   "execution_count": null,
   "id": "fd733d58",
   "metadata": {},
   "outputs": [],
   "source": []
  },
  {
   "cell_type": "code",
   "execution_count": null,
   "id": "46dbcb58",
   "metadata": {},
   "outputs": [],
   "source": []
  },
  {
   "cell_type": "code",
   "execution_count": null,
   "id": "1eda22e5",
   "metadata": {},
   "outputs": [],
   "source": []
  },
  {
   "cell_type": "code",
   "execution_count": null,
   "id": "08d43635",
   "metadata": {},
   "outputs": [],
   "source": []
  },
  {
   "cell_type": "code",
   "execution_count": null,
   "id": "c80caaef",
   "metadata": {},
   "outputs": [],
   "source": []
  },
  {
   "cell_type": "code",
   "execution_count": null,
   "id": "3850042c",
   "metadata": {},
   "outputs": [],
   "source": []
  },
  {
   "cell_type": "code",
   "execution_count": null,
   "id": "87330b43",
   "metadata": {},
   "outputs": [],
   "source": []
  },
  {
   "cell_type": "code",
   "execution_count": null,
   "id": "07bbd6b3",
   "metadata": {},
   "outputs": [],
   "source": []
  },
  {
   "cell_type": "code",
   "execution_count": null,
   "id": "aa163f84",
   "metadata": {},
   "outputs": [],
   "source": []
  },
  {
   "cell_type": "code",
   "execution_count": null,
   "id": "dd3a2f8b",
   "metadata": {},
   "outputs": [],
   "source": []
  },
  {
   "cell_type": "code",
   "execution_count": null,
   "id": "e9882312",
   "metadata": {},
   "outputs": [],
   "source": []
  }
 ],
 "metadata": {
  "kernelspec": {
   "display_name": "Python 3 (ipykernel)",
   "language": "python",
   "name": "python3"
  },
  "language_info": {
   "codemirror_mode": {
    "name": "ipython",
    "version": 3
   },
   "file_extension": ".py",
   "mimetype": "text/x-python",
   "name": "python",
   "nbconvert_exporter": "python",
   "pygments_lexer": "ipython3",
   "version": "3.9.12"
  }
 },
 "nbformat": 4,
 "nbformat_minor": 5
}
